{
 "cells": [
  {
   "cell_type": "code",
   "execution_count": 1,
   "id": "00783dae",
   "metadata": {
    "_cell_guid": "b1076dfc-b9ad-4769-8c92-a6c4dae69d19",
    "_uuid": "8f2839f25d086af736a60e9eeb907d3b93b6e0e5",
    "execution": {
     "iopub.execute_input": "2024-01-21T18:25:22.079467Z",
     "iopub.status.busy": "2024-01-21T18:25:22.078935Z",
     "iopub.status.idle": "2024-01-21T18:25:23.161201Z",
     "shell.execute_reply": "2024-01-21T18:25:23.160351Z"
    },
    "papermill": {
     "duration": 1.091903,
     "end_time": "2024-01-21T18:25:23.163204",
     "exception": false,
     "start_time": "2024-01-21T18:25:22.071301",
     "status": "completed"
    },
    "tags": []
   },
   "outputs": [
    {
     "data": {
      "text/html": [
       "<div>\n",
       "<style scoped>\n",
       "    .dataframe tbody tr th:only-of-type {\n",
       "        vertical-align: middle;\n",
       "    }\n",
       "\n",
       "    .dataframe tbody tr th {\n",
       "        vertical-align: top;\n",
       "    }\n",
       "\n",
       "    .dataframe thead th {\n",
       "        text-align: right;\n",
       "    }\n",
       "</style>\n",
       "<table border=\"1\" class=\"dataframe\">\n",
       "  <thead>\n",
       "    <tr style=\"text-align: right;\">\n",
       "      <th></th>\n",
       "      <th>ID</th>\n",
       "      <th>damage</th>\n",
       "      <th>filename</th>\n",
       "    </tr>\n",
       "  </thead>\n",
       "  <tbody>\n",
       "    <tr>\n",
       "      <th>0</th>\n",
       "      <td>ID_UBHORS</td>\n",
       "      <td>WD</td>\n",
       "      <td>d036341be8d6cd59851cb80bcc9a70cc9fbdba30.jpg</td>\n",
       "    </tr>\n",
       "    <tr>\n",
       "      <th>1</th>\n",
       "      <td>ID_9DSOLZ</td>\n",
       "      <td>G</td>\n",
       "      <td>9ea16180c50d0cd539897eefbfe585314e50a56b.jpg</td>\n",
       "    </tr>\n",
       "    <tr>\n",
       "      <th>2</th>\n",
       "      <td>ID_JHLM0G</td>\n",
       "      <td>G</td>\n",
       "      <td>b6b564844041bc68774a553eaf43d61654657dd9.jpg</td>\n",
       "    </tr>\n",
       "    <tr>\n",
       "      <th>3</th>\n",
       "      <td>ID_ATREIJ</td>\n",
       "      <td>DR</td>\n",
       "      <td>62262859f0cd411aaf484082ed3ef0b625bc452a.jpg</td>\n",
       "    </tr>\n",
       "    <tr>\n",
       "      <th>4</th>\n",
       "      <td>ID_L2GAD6</td>\n",
       "      <td>G</td>\n",
       "      <td>03b6e2a8ace7cb611eccba289f3c83d9bd497584.jpg</td>\n",
       "    </tr>\n",
       "  </tbody>\n",
       "</table>\n",
       "</div>"
      ],
      "text/plain": [
       "          ID damage                                      filename\n",
       "0  ID_UBHORS     WD  d036341be8d6cd59851cb80bcc9a70cc9fbdba30.jpg\n",
       "1  ID_9DSOLZ      G  9ea16180c50d0cd539897eefbfe585314e50a56b.jpg\n",
       "2  ID_JHLM0G      G  b6b564844041bc68774a553eaf43d61654657dd9.jpg\n",
       "3  ID_ATREIJ     DR  62262859f0cd411aaf484082ed3ef0b625bc452a.jpg\n",
       "4  ID_L2GAD6      G  03b6e2a8ace7cb611eccba289f3c83d9bd497584.jpg"
      ]
     },
     "execution_count": 1,
     "metadata": {},
     "output_type": "execute_result"
    }
   ],
   "source": [
    "import pandas as pd\n",
    "train=pd.read_csv('/kaggle/input/zindidata/Train.csv')\n",
    "train.head()"
   ]
  },
  {
   "cell_type": "code",
   "execution_count": 2,
   "id": "b8eb7da0",
   "metadata": {
    "execution": {
     "iopub.execute_input": "2024-01-21T18:25:23.175711Z",
     "iopub.status.busy": "2024-01-21T18:25:23.175219Z",
     "iopub.status.idle": "2024-01-21T18:25:23.194124Z",
     "shell.execute_reply": "2024-01-21T18:25:23.193027Z"
    },
    "papermill": {
     "duration": 0.028197,
     "end_time": "2024-01-21T18:25:23.196594",
     "exception": false,
     "start_time": "2024-01-21T18:25:23.168397",
     "status": "completed"
    },
    "tags": []
   },
   "outputs": [
    {
     "data": {
      "text/html": [
       "<div>\n",
       "<style scoped>\n",
       "    .dataframe tbody tr th:only-of-type {\n",
       "        vertical-align: middle;\n",
       "    }\n",
       "\n",
       "    .dataframe tbody tr th {\n",
       "        vertical-align: top;\n",
       "    }\n",
       "\n",
       "    .dataframe thead th {\n",
       "        text-align: right;\n",
       "    }\n",
       "</style>\n",
       "<table border=\"1\" class=\"dataframe\">\n",
       "  <thead>\n",
       "    <tr style=\"text-align: right;\">\n",
       "      <th></th>\n",
       "      <th>damage</th>\n",
       "      <th>filename</th>\n",
       "    </tr>\n",
       "  </thead>\n",
       "  <tbody>\n",
       "    <tr>\n",
       "      <th>0</th>\n",
       "      <td>WD</td>\n",
       "      <td>d036341be8d6cd59851cb80bcc9a70cc9fbdba30.jpg</td>\n",
       "    </tr>\n",
       "    <tr>\n",
       "      <th>1</th>\n",
       "      <td>G</td>\n",
       "      <td>9ea16180c50d0cd539897eefbfe585314e50a56b.jpg</td>\n",
       "    </tr>\n",
       "    <tr>\n",
       "      <th>2</th>\n",
       "      <td>G</td>\n",
       "      <td>b6b564844041bc68774a553eaf43d61654657dd9.jpg</td>\n",
       "    </tr>\n",
       "    <tr>\n",
       "      <th>3</th>\n",
       "      <td>DR</td>\n",
       "      <td>62262859f0cd411aaf484082ed3ef0b625bc452a.jpg</td>\n",
       "    </tr>\n",
       "    <tr>\n",
       "      <th>4</th>\n",
       "      <td>G</td>\n",
       "      <td>03b6e2a8ace7cb611eccba289f3c83d9bd497584.jpg</td>\n",
       "    </tr>\n",
       "  </tbody>\n",
       "</table>\n",
       "</div>"
      ],
      "text/plain": [
       "  damage                                      filename\n",
       "0     WD  d036341be8d6cd59851cb80bcc9a70cc9fbdba30.jpg\n",
       "1      G  9ea16180c50d0cd539897eefbfe585314e50a56b.jpg\n",
       "2      G  b6b564844041bc68774a553eaf43d61654657dd9.jpg\n",
       "3     DR  62262859f0cd411aaf484082ed3ef0b625bc452a.jpg\n",
       "4      G  03b6e2a8ace7cb611eccba289f3c83d9bd497584.jpg"
      ]
     },
     "execution_count": 2,
     "metadata": {},
     "output_type": "execute_result"
    }
   ],
   "source": [
    "train=train.drop(['ID'],axis=1)\n",
    "train.head()"
   ]
  },
  {
   "cell_type": "code",
   "execution_count": 3,
   "id": "4e22e69d",
   "metadata": {
    "execution": {
     "iopub.execute_input": "2024-01-21T18:25:23.209721Z",
     "iopub.status.busy": "2024-01-21T18:25:23.209268Z",
     "iopub.status.idle": "2024-01-21T18:25:23.219790Z",
     "shell.execute_reply": "2024-01-21T18:25:23.218785Z"
    },
    "papermill": {
     "duration": 0.019567,
     "end_time": "2024-01-21T18:25:23.221856",
     "exception": false,
     "start_time": "2024-01-21T18:25:23.202289",
     "status": "completed"
    },
    "tags": []
   },
   "outputs": [
    {
     "data": {
      "text/html": [
       "<div>\n",
       "<style scoped>\n",
       "    .dataframe tbody tr th:only-of-type {\n",
       "        vertical-align: middle;\n",
       "    }\n",
       "\n",
       "    .dataframe tbody tr th {\n",
       "        vertical-align: top;\n",
       "    }\n",
       "\n",
       "    .dataframe thead th {\n",
       "        text-align: right;\n",
       "    }\n",
       "</style>\n",
       "<table border=\"1\" class=\"dataframe\">\n",
       "  <thead>\n",
       "    <tr style=\"text-align: right;\">\n",
       "      <th></th>\n",
       "      <th>label</th>\n",
       "      <th>filename</th>\n",
       "    </tr>\n",
       "  </thead>\n",
       "  <tbody>\n",
       "    <tr>\n",
       "      <th>0</th>\n",
       "      <td>WD</td>\n",
       "      <td>d036341be8d6cd59851cb80bcc9a70cc9fbdba30.jpg</td>\n",
       "    </tr>\n",
       "    <tr>\n",
       "      <th>1</th>\n",
       "      <td>G</td>\n",
       "      <td>9ea16180c50d0cd539897eefbfe585314e50a56b.jpg</td>\n",
       "    </tr>\n",
       "    <tr>\n",
       "      <th>2</th>\n",
       "      <td>G</td>\n",
       "      <td>b6b564844041bc68774a553eaf43d61654657dd9.jpg</td>\n",
       "    </tr>\n",
       "    <tr>\n",
       "      <th>3</th>\n",
       "      <td>DR</td>\n",
       "      <td>62262859f0cd411aaf484082ed3ef0b625bc452a.jpg</td>\n",
       "    </tr>\n",
       "    <tr>\n",
       "      <th>4</th>\n",
       "      <td>G</td>\n",
       "      <td>03b6e2a8ace7cb611eccba289f3c83d9bd497584.jpg</td>\n",
       "    </tr>\n",
       "  </tbody>\n",
       "</table>\n",
       "</div>"
      ],
      "text/plain": [
       "  label                                      filename\n",
       "0    WD  d036341be8d6cd59851cb80bcc9a70cc9fbdba30.jpg\n",
       "1     G  9ea16180c50d0cd539897eefbfe585314e50a56b.jpg\n",
       "2     G  b6b564844041bc68774a553eaf43d61654657dd9.jpg\n",
       "3    DR  62262859f0cd411aaf484082ed3ef0b625bc452a.jpg\n",
       "4     G  03b6e2a8ace7cb611eccba289f3c83d9bd497584.jpg"
      ]
     },
     "execution_count": 3,
     "metadata": {},
     "output_type": "execute_result"
    }
   ],
   "source": [
    "train.columns=['label','filename']\n",
    "train.head()"
   ]
  },
  {
   "cell_type": "code",
   "execution_count": 4,
   "id": "67d26f6d",
   "metadata": {
    "execution": {
     "iopub.execute_input": "2024-01-21T18:25:23.235000Z",
     "iopub.status.busy": "2024-01-21T18:25:23.234652Z",
     "iopub.status.idle": "2024-01-21T18:25:23.258776Z",
     "shell.execute_reply": "2024-01-21T18:25:23.256747Z"
    },
    "papermill": {
     "duration": 0.034032,
     "end_time": "2024-01-21T18:25:23.261727",
     "exception": false,
     "start_time": "2024-01-21T18:25:23.227695",
     "status": "completed"
    },
    "tags": []
   },
   "outputs": [
    {
     "data": {
      "text/html": [
       "<div>\n",
       "<style scoped>\n",
       "    .dataframe tbody tr th:only-of-type {\n",
       "        vertical-align: middle;\n",
       "    }\n",
       "\n",
       "    .dataframe tbody tr th {\n",
       "        vertical-align: top;\n",
       "    }\n",
       "\n",
       "    .dataframe thead th {\n",
       "        text-align: right;\n",
       "    }\n",
       "</style>\n",
       "<table border=\"1\" class=\"dataframe\">\n",
       "  <thead>\n",
       "    <tr style=\"text-align: right;\">\n",
       "      <th></th>\n",
       "      <th>label</th>\n",
       "      <th>count</th>\n",
       "    </tr>\n",
       "  </thead>\n",
       "  <tbody>\n",
       "    <tr>\n",
       "      <th>0</th>\n",
       "      <td>G</td>\n",
       "      <td>11623</td>\n",
       "    </tr>\n",
       "    <tr>\n",
       "      <th>1</th>\n",
       "      <td>WD</td>\n",
       "      <td>9238</td>\n",
       "    </tr>\n",
       "    <tr>\n",
       "      <th>2</th>\n",
       "      <td>DR</td>\n",
       "      <td>4516</td>\n",
       "    </tr>\n",
       "    <tr>\n",
       "      <th>3</th>\n",
       "      <td>other</td>\n",
       "      <td>419</td>\n",
       "    </tr>\n",
       "    <tr>\n",
       "      <th>4</th>\n",
       "      <td>ND</td>\n",
       "      <td>272</td>\n",
       "    </tr>\n",
       "  </tbody>\n",
       "</table>\n",
       "</div>"
      ],
      "text/plain": [
       "   label  count\n",
       "0      G  11623\n",
       "1     WD   9238\n",
       "2     DR   4516\n",
       "3  other    419\n",
       "4     ND    272"
      ]
     },
     "execution_count": 4,
     "metadata": {},
     "output_type": "execute_result"
    }
   ],
   "source": [
    "count=(train.label.value_counts()).to_frame()\n",
    "count.reset_index(inplace=True)\n",
    "count.columns=['label','count']\n",
    "count"
   ]
  },
  {
   "cell_type": "code",
   "execution_count": 5,
   "id": "87f13ea5",
   "metadata": {
    "execution": {
     "iopub.execute_input": "2024-01-21T18:25:23.276790Z",
     "iopub.status.busy": "2024-01-21T18:25:23.276287Z",
     "iopub.status.idle": "2024-01-21T18:25:24.838367Z",
     "shell.execute_reply": "2024-01-21T18:25:24.836471Z"
    },
    "papermill": {
     "duration": 1.572828,
     "end_time": "2024-01-21T18:25:24.841277",
     "exception": false,
     "start_time": "2024-01-21T18:25:23.268449",
     "status": "completed"
    },
    "tags": []
   },
   "outputs": [],
   "source": [
    "from sklearn.model_selection import train_test_split\n",
    "train,test= train_test_split( train, test_size=0.2, random_state=42,shuffle=True, stratify=train['label'])"
   ]
  },
  {
   "cell_type": "code",
   "execution_count": 6,
   "id": "6b38450e",
   "metadata": {
    "execution": {
     "iopub.execute_input": "2024-01-21T18:25:24.855195Z",
     "iopub.status.busy": "2024-01-21T18:25:24.854727Z",
     "iopub.status.idle": "2024-01-21T18:25:24.869578Z",
     "shell.execute_reply": "2024-01-21T18:25:24.868004Z"
    },
    "papermill": {
     "duration": 0.025325,
     "end_time": "2024-01-21T18:25:24.872660",
     "exception": false,
     "start_time": "2024-01-21T18:25:24.847335",
     "status": "completed"
    },
    "tags": []
   },
   "outputs": [
    {
     "data": {
      "text/html": [
       "<div>\n",
       "<style scoped>\n",
       "    .dataframe tbody tr th:only-of-type {\n",
       "        vertical-align: middle;\n",
       "    }\n",
       "\n",
       "    .dataframe tbody tr th {\n",
       "        vertical-align: top;\n",
       "    }\n",
       "\n",
       "    .dataframe thead th {\n",
       "        text-align: right;\n",
       "    }\n",
       "</style>\n",
       "<table border=\"1\" class=\"dataframe\">\n",
       "  <thead>\n",
       "    <tr style=\"text-align: right;\">\n",
       "      <th></th>\n",
       "      <th>label</th>\n",
       "      <th>count</th>\n",
       "    </tr>\n",
       "  </thead>\n",
       "  <tbody>\n",
       "    <tr>\n",
       "      <th>0</th>\n",
       "      <td>G</td>\n",
       "      <td>9298</td>\n",
       "    </tr>\n",
       "    <tr>\n",
       "      <th>1</th>\n",
       "      <td>WD</td>\n",
       "      <td>7390</td>\n",
       "    </tr>\n",
       "    <tr>\n",
       "      <th>2</th>\n",
       "      <td>DR</td>\n",
       "      <td>3613</td>\n",
       "    </tr>\n",
       "    <tr>\n",
       "      <th>3</th>\n",
       "      <td>other</td>\n",
       "      <td>335</td>\n",
       "    </tr>\n",
       "    <tr>\n",
       "      <th>4</th>\n",
       "      <td>ND</td>\n",
       "      <td>218</td>\n",
       "    </tr>\n",
       "  </tbody>\n",
       "</table>\n",
       "</div>"
      ],
      "text/plain": [
       "   label  count\n",
       "0      G   9298\n",
       "1     WD   7390\n",
       "2     DR   3613\n",
       "3  other    335\n",
       "4     ND    218"
      ]
     },
     "execution_count": 6,
     "metadata": {},
     "output_type": "execute_result"
    }
   ],
   "source": [
    "count=(train.label.value_counts()).to_frame()\n",
    "count.reset_index(inplace=True)\n",
    "count.columns=['label','count']\n",
    "count"
   ]
  },
  {
   "cell_type": "code",
   "execution_count": 7,
   "id": "13dfa1db",
   "metadata": {
    "execution": {
     "iopub.execute_input": "2024-01-21T18:25:24.889250Z",
     "iopub.status.busy": "2024-01-21T18:25:24.887740Z",
     "iopub.status.idle": "2024-01-21T18:25:24.900363Z",
     "shell.execute_reply": "2024-01-21T18:25:24.899471Z"
    },
    "papermill": {
     "duration": 0.02386,
     "end_time": "2024-01-21T18:25:24.903825",
     "exception": false,
     "start_time": "2024-01-21T18:25:24.879965",
     "status": "completed"
    },
    "tags": []
   },
   "outputs": [
    {
     "data": {
      "text/html": [
       "<div>\n",
       "<style scoped>\n",
       "    .dataframe tbody tr th:only-of-type {\n",
       "        vertical-align: middle;\n",
       "    }\n",
       "\n",
       "    .dataframe tbody tr th {\n",
       "        vertical-align: top;\n",
       "    }\n",
       "\n",
       "    .dataframe thead th {\n",
       "        text-align: right;\n",
       "    }\n",
       "</style>\n",
       "<table border=\"1\" class=\"dataframe\">\n",
       "  <thead>\n",
       "    <tr style=\"text-align: right;\">\n",
       "      <th></th>\n",
       "      <th>label</th>\n",
       "      <th>filename</th>\n",
       "    </tr>\n",
       "  </thead>\n",
       "  <tbody>\n",
       "    <tr>\n",
       "      <th>0</th>\n",
       "      <td>WD</td>\n",
       "      <td>09c40f27b3a4070b4deffc4d267886c7f85bf4f9.jpg</td>\n",
       "    </tr>\n",
       "    <tr>\n",
       "      <th>1</th>\n",
       "      <td>G</td>\n",
       "      <td>b84b55e6a4bb64eaadf13f26abe63c67ed239b10.jpg</td>\n",
       "    </tr>\n",
       "    <tr>\n",
       "      <th>2</th>\n",
       "      <td>DR</td>\n",
       "      <td>a1f83d33657e5dd5949627f7c2c6333c54441530.jpg</td>\n",
       "    </tr>\n",
       "    <tr>\n",
       "      <th>3</th>\n",
       "      <td>WD</td>\n",
       "      <td>7940791f49520cd2437370717d213b7a3cb70dca.jpg</td>\n",
       "    </tr>\n",
       "    <tr>\n",
       "      <th>4</th>\n",
       "      <td>G</td>\n",
       "      <td>32d58c3c3aabd086753100413b2b601876baf6ec.jpg</td>\n",
       "    </tr>\n",
       "  </tbody>\n",
       "</table>\n",
       "</div>"
      ],
      "text/plain": [
       "  label                                      filename\n",
       "0    WD  09c40f27b3a4070b4deffc4d267886c7f85bf4f9.jpg\n",
       "1     G  b84b55e6a4bb64eaadf13f26abe63c67ed239b10.jpg\n",
       "2    DR  a1f83d33657e5dd5949627f7c2c6333c54441530.jpg\n",
       "3    WD  7940791f49520cd2437370717d213b7a3cb70dca.jpg\n",
       "4     G  32d58c3c3aabd086753100413b2b601876baf6ec.jpg"
      ]
     },
     "execution_count": 7,
     "metadata": {},
     "output_type": "execute_result"
    }
   ],
   "source": [
    "train=train.sample(n=len(train))\n",
    "train.reset_index(inplace=True,drop=True)\n",
    "train.head()"
   ]
  },
  {
   "cell_type": "code",
   "execution_count": 8,
   "id": "0195602a",
   "metadata": {
    "execution": {
     "iopub.execute_input": "2024-01-21T18:25:24.919597Z",
     "iopub.status.busy": "2024-01-21T18:25:24.918711Z",
     "iopub.status.idle": "2024-01-21T18:25:24.933273Z",
     "shell.execute_reply": "2024-01-21T18:25:24.931524Z"
    },
    "papermill": {
     "duration": 0.025482,
     "end_time": "2024-01-21T18:25:24.936096",
     "exception": false,
     "start_time": "2024-01-21T18:25:24.910614",
     "status": "completed"
    },
    "tags": []
   },
   "outputs": [
    {
     "data": {
      "text/html": [
       "<div>\n",
       "<style scoped>\n",
       "    .dataframe tbody tr th:only-of-type {\n",
       "        vertical-align: middle;\n",
       "    }\n",
       "\n",
       "    .dataframe tbody tr th {\n",
       "        vertical-align: top;\n",
       "    }\n",
       "\n",
       "    .dataframe thead th {\n",
       "        text-align: right;\n",
       "    }\n",
       "</style>\n",
       "<table border=\"1\" class=\"dataframe\">\n",
       "  <thead>\n",
       "    <tr style=\"text-align: right;\">\n",
       "      <th></th>\n",
       "      <th>label</th>\n",
       "      <th>filename</th>\n",
       "    </tr>\n",
       "  </thead>\n",
       "  <tbody>\n",
       "    <tr>\n",
       "      <th>0</th>\n",
       "      <td>G</td>\n",
       "      <td>d843bb0bb5e9b2b39d71303fe9b18dbac4fc5f7b.jpg</td>\n",
       "    </tr>\n",
       "    <tr>\n",
       "      <th>1</th>\n",
       "      <td>G</td>\n",
       "      <td>42de9a0ec0577b87a8f7b99dd9401c524da63065.jpg</td>\n",
       "    </tr>\n",
       "    <tr>\n",
       "      <th>2</th>\n",
       "      <td>WD</td>\n",
       "      <td>ca6b358605b88b0058aef3589c94aa1716d01db9.jpg</td>\n",
       "    </tr>\n",
       "    <tr>\n",
       "      <th>3</th>\n",
       "      <td>G</td>\n",
       "      <td>f5d21812cb27dfd14ccab104a92326d45710f94c.jpg</td>\n",
       "    </tr>\n",
       "    <tr>\n",
       "      <th>4</th>\n",
       "      <td>WD</td>\n",
       "      <td>aa48b2afc6f11f980b3254b5980a81fd7e588f3f.jpg</td>\n",
       "    </tr>\n",
       "  </tbody>\n",
       "</table>\n",
       "</div>"
      ],
      "text/plain": [
       "  label                                      filename\n",
       "0     G  d843bb0bb5e9b2b39d71303fe9b18dbac4fc5f7b.jpg\n",
       "1     G  42de9a0ec0577b87a8f7b99dd9401c524da63065.jpg\n",
       "2    WD  ca6b358605b88b0058aef3589c94aa1716d01db9.jpg\n",
       "3     G  f5d21812cb27dfd14ccab104a92326d45710f94c.jpg\n",
       "4    WD  aa48b2afc6f11f980b3254b5980a81fd7e588f3f.jpg"
      ]
     },
     "execution_count": 8,
     "metadata": {},
     "output_type": "execute_result"
    }
   ],
   "source": [
    "test=test.sample(n=len(test))\n",
    "test.reset_index(inplace=True,drop=True)\n",
    "test.head()"
   ]
  },
  {
   "cell_type": "code",
   "execution_count": 9,
   "id": "5bf3fcb7",
   "metadata": {
    "execution": {
     "iopub.execute_input": "2024-01-21T18:25:24.951662Z",
     "iopub.status.busy": "2024-01-21T18:25:24.951025Z",
     "iopub.status.idle": "2024-01-21T18:25:24.957949Z",
     "shell.execute_reply": "2024-01-21T18:25:24.955793Z"
    },
    "papermill": {
     "duration": 0.018245,
     "end_time": "2024-01-21T18:25:24.961025",
     "exception": false,
     "start_time": "2024-01-21T18:25:24.942780",
     "status": "completed"
    },
    "tags": []
   },
   "outputs": [
    {
     "data": {
      "text/plain": [
       "((20854, 2), (5214, 2))"
      ]
     },
     "execution_count": 9,
     "metadata": {},
     "output_type": "execute_result"
    }
   ],
   "source": [
    "train.shape,test.shape"
   ]
  },
  {
   "cell_type": "code",
   "execution_count": 10,
   "id": "5d0e5ff2",
   "metadata": {
    "execution": {
     "iopub.execute_input": "2024-01-21T18:25:24.976385Z",
     "iopub.status.busy": "2024-01-21T18:25:24.975637Z",
     "iopub.status.idle": "2024-01-21T18:25:24.989355Z",
     "shell.execute_reply": "2024-01-21T18:25:24.987769Z"
    },
    "papermill": {
     "duration": 0.024956,
     "end_time": "2024-01-21T18:25:24.992495",
     "exception": false,
     "start_time": "2024-01-21T18:25:24.967539",
     "status": "completed"
    },
    "tags": []
   },
   "outputs": [
    {
     "data": {
      "text/plain": [
       "['WD', 'G', 'DR', 'ND', 'other']"
      ]
     },
     "execution_count": 10,
     "metadata": {},
     "output_type": "execute_result"
    }
   ],
   "source": [
    "# take unique labels\n",
    "class_names = list(train.label.unique())\n",
    "class_names[:5]"
   ]
  },
  {
   "cell_type": "code",
   "execution_count": 11,
   "id": "ecdcedce",
   "metadata": {
    "execution": {
     "iopub.execute_input": "2024-01-21T18:25:25.016678Z",
     "iopub.status.busy": "2024-01-21T18:25:25.016218Z",
     "iopub.status.idle": "2024-01-21T18:25:25.024498Z",
     "shell.execute_reply": "2024-01-21T18:25:25.022807Z"
    },
    "papermill": {
     "duration": 0.02806,
     "end_time": "2024-01-21T18:25:25.027894",
     "exception": false,
     "start_time": "2024-01-21T18:25:24.999834",
     "status": "completed"
    },
    "tags": []
   },
   "outputs": [],
   "source": [
    "import shutil, os\n",
    "newpath = r'./train' \n",
    "if not os.path.exists(newpath):\n",
    "    os.makedirs(newpath)"
   ]
  },
  {
   "cell_type": "code",
   "execution_count": 12,
   "id": "0758f18a",
   "metadata": {
    "execution": {
     "iopub.execute_input": "2024-01-21T18:25:25.043565Z",
     "iopub.status.busy": "2024-01-21T18:25:25.043040Z",
     "iopub.status.idle": "2024-01-21T18:29:15.041779Z",
     "shell.execute_reply": "2024-01-21T18:29:15.037576Z"
    },
    "papermill": {
     "duration": 230.016375,
     "end_time": "2024-01-21T18:29:15.051279",
     "exception": false,
     "start_time": "2024-01-21T18:25:25.034904",
     "status": "completed"
    },
    "tags": []
   },
   "outputs": [],
   "source": [
    "#creating subfolders\n",
    "for c in class_names:\n",
    "    dest =  r'./train/'+str(c)\n",
    "    os.makedirs(dest)\n",
    "    for i in list(train[train['label']==c]['filename']): # Image Id\n",
    "        get_image = os.path.join('/kaggle/input/zindidata/images/images', i) # Path to Images \n",
    "        move_image_to_cat = shutil.copy(get_image, dest)"
   ]
  },
  {
   "cell_type": "code",
   "execution_count": 13,
   "id": "166a45c5",
   "metadata": {
    "execution": {
     "iopub.execute_input": "2024-01-21T18:29:15.086163Z",
     "iopub.status.busy": "2024-01-21T18:29:15.085669Z",
     "iopub.status.idle": "2024-01-21T18:29:15.095045Z",
     "shell.execute_reply": "2024-01-21T18:29:15.093648Z"
    },
    "papermill": {
     "duration": 0.022313,
     "end_time": "2024-01-21T18:29:15.097319",
     "exception": false,
     "start_time": "2024-01-21T18:29:15.075006",
     "status": "completed"
    },
    "tags": []
   },
   "outputs": [],
   "source": [
    "import shutil, os\n",
    "newpath = r'./test' \n",
    "if not os.path.exists(newpath):\n",
    "    os.makedirs(newpath)"
   ]
  },
  {
   "cell_type": "code",
   "execution_count": 14,
   "id": "a82e5864",
   "metadata": {
    "execution": {
     "iopub.execute_input": "2024-01-21T18:29:15.112571Z",
     "iopub.status.busy": "2024-01-21T18:29:15.112087Z",
     "iopub.status.idle": "2024-01-21T18:30:16.688523Z",
     "shell.execute_reply": "2024-01-21T18:30:16.686510Z"
    },
    "papermill": {
     "duration": 61.588354,
     "end_time": "2024-01-21T18:30:16.692581",
     "exception": false,
     "start_time": "2024-01-21T18:29:15.104227",
     "status": "completed"
    },
    "tags": []
   },
   "outputs": [],
   "source": [
    "#creating subfolders\n",
    "for c in class_names:\n",
    "    dest =  r'./test/'+str(c)\n",
    "    os.makedirs(dest)\n",
    "    for i in list(test[test['label']==c]['filename']): # Image Id\n",
    "        get_image = os.path.join('/kaggle/input/zindidata/images/images', i) # Path to Images \n",
    "        move_image_to_cat = shutil.copy(get_image, dest)"
   ]
  },
  {
   "cell_type": "code",
   "execution_count": 15,
   "id": "7d33539f",
   "metadata": {
    "execution": {
     "iopub.execute_input": "2024-01-21T18:30:16.709287Z",
     "iopub.status.busy": "2024-01-21T18:30:16.708336Z",
     "iopub.status.idle": "2024-01-21T18:30:16.714510Z",
     "shell.execute_reply": "2024-01-21T18:30:16.713298Z"
    },
    "papermill": {
     "duration": 0.017416,
     "end_time": "2024-01-21T18:30:16.717155",
     "exception": false,
     "start_time": "2024-01-21T18:30:16.699739",
     "status": "completed"
    },
    "tags": []
   },
   "outputs": [],
   "source": [
    "newpath = r'./sol' \n",
    "if not os.path.exists(newpath):\n",
    "    os.makedirs(newpath)"
   ]
  },
  {
   "cell_type": "code",
   "execution_count": 16,
   "id": "68f74b38",
   "metadata": {
    "execution": {
     "iopub.execute_input": "2024-01-21T18:30:16.733244Z",
     "iopub.status.busy": "2024-01-21T18:30:16.732780Z",
     "iopub.status.idle": "2024-01-21T18:30:16.786606Z",
     "shell.execute_reply": "2024-01-21T18:30:16.783663Z"
    },
    "papermill": {
     "duration": 0.064903,
     "end_time": "2024-01-21T18:30:16.788985",
     "exception": false,
     "start_time": "2024-01-21T18:30:16.724082",
     "status": "completed"
    },
    "tags": []
   },
   "outputs": [
    {
     "data": {
      "text/html": [
       "<div>\n",
       "<style scoped>\n",
       "    .dataframe tbody tr th:only-of-type {\n",
       "        vertical-align: middle;\n",
       "    }\n",
       "\n",
       "    .dataframe tbody tr th {\n",
       "        vertical-align: top;\n",
       "    }\n",
       "\n",
       "    .dataframe thead th {\n",
       "        text-align: right;\n",
       "    }\n",
       "</style>\n",
       "<table border=\"1\" class=\"dataframe\">\n",
       "  <thead>\n",
       "    <tr style=\"text-align: right;\">\n",
       "      <th></th>\n",
       "      <th>ID</th>\n",
       "      <th>filename</th>\n",
       "    </tr>\n",
       "  </thead>\n",
       "  <tbody>\n",
       "    <tr>\n",
       "      <th>0</th>\n",
       "      <td>ID_QW9GQM</td>\n",
       "      <td>03428805a0d7d269b422dbfafb3f86cb394a0491.jpg</td>\n",
       "    </tr>\n",
       "    <tr>\n",
       "      <th>1</th>\n",
       "      <td>ID_G9VPQ9</td>\n",
       "      <td>5dcf4f5d82708496ad7c3227ccbc8af5058aa227.jpg</td>\n",
       "    </tr>\n",
       "    <tr>\n",
       "      <th>2</th>\n",
       "      <td>ID_QIMIEM</td>\n",
       "      <td>4e835aa40e4aafa24db13cba4182094eb9e5eb79.jpg</td>\n",
       "    </tr>\n",
       "    <tr>\n",
       "      <th>3</th>\n",
       "      <td>ID_TSINUQ</td>\n",
       "      <td>1e0dbb8669385be73a480ce108d12bdc4354f120.jpg</td>\n",
       "    </tr>\n",
       "    <tr>\n",
       "      <th>4</th>\n",
       "      <td>ID_I7OOHH</td>\n",
       "      <td>3d05e31502f9f00ce25770666c73af5f323a8b3a.jpg</td>\n",
       "    </tr>\n",
       "  </tbody>\n",
       "</table>\n",
       "</div>"
      ],
      "text/plain": [
       "          ID                                      filename\n",
       "0  ID_QW9GQM  03428805a0d7d269b422dbfafb3f86cb394a0491.jpg\n",
       "1  ID_G9VPQ9  5dcf4f5d82708496ad7c3227ccbc8af5058aa227.jpg\n",
       "2  ID_QIMIEM  4e835aa40e4aafa24db13cba4182094eb9e5eb79.jpg\n",
       "3  ID_TSINUQ  1e0dbb8669385be73a480ce108d12bdc4354f120.jpg\n",
       "4  ID_I7OOHH  3d05e31502f9f00ce25770666c73af5f323a8b3a.jpg"
      ]
     },
     "execution_count": 16,
     "metadata": {},
     "output_type": "execute_result"
    }
   ],
   "source": [
    "sol=pd.read_csv('/kaggle/input/zindidata/Test.csv')\n",
    "sol.head()"
   ]
  },
  {
   "cell_type": "code",
   "execution_count": 17,
   "id": "7f5816ef",
   "metadata": {
    "execution": {
     "iopub.execute_input": "2024-01-21T18:30:16.805712Z",
     "iopub.status.busy": "2024-01-21T18:30:16.805136Z",
     "iopub.status.idle": "2024-01-21T18:30:16.822366Z",
     "shell.execute_reply": "2024-01-21T18:30:16.820399Z"
    },
    "papermill": {
     "duration": 0.029679,
     "end_time": "2024-01-21T18:30:16.825008",
     "exception": false,
     "start_time": "2024-01-21T18:30:16.795329",
     "status": "completed"
    },
    "tags": []
   },
   "outputs": [
    {
     "data": {
      "text/html": [
       "<div>\n",
       "<style scoped>\n",
       "    .dataframe tbody tr th:only-of-type {\n",
       "        vertical-align: middle;\n",
       "    }\n",
       "\n",
       "    .dataframe tbody tr th {\n",
       "        vertical-align: top;\n",
       "    }\n",
       "\n",
       "    .dataframe thead th {\n",
       "        text-align: right;\n",
       "    }\n",
       "</style>\n",
       "<table border=\"1\" class=\"dataframe\">\n",
       "  <thead>\n",
       "    <tr style=\"text-align: right;\">\n",
       "      <th></th>\n",
       "      <th>ID</th>\n",
       "      <th>filename</th>\n",
       "      <th>destination</th>\n",
       "    </tr>\n",
       "  </thead>\n",
       "  <tbody>\n",
       "    <tr>\n",
       "      <th>0</th>\n",
       "      <td>ID_QW9GQM</td>\n",
       "      <td>/kaggle/input/zindidata/images/images/03428805...</td>\n",
       "      <td>./sol/</td>\n",
       "    </tr>\n",
       "    <tr>\n",
       "      <th>1</th>\n",
       "      <td>ID_G9VPQ9</td>\n",
       "      <td>/kaggle/input/zindidata/images/images/5dcf4f5d...</td>\n",
       "      <td>./sol/</td>\n",
       "    </tr>\n",
       "    <tr>\n",
       "      <th>2</th>\n",
       "      <td>ID_QIMIEM</td>\n",
       "      <td>/kaggle/input/zindidata/images/images/4e835aa4...</td>\n",
       "      <td>./sol/</td>\n",
       "    </tr>\n",
       "    <tr>\n",
       "      <th>3</th>\n",
       "      <td>ID_TSINUQ</td>\n",
       "      <td>/kaggle/input/zindidata/images/images/1e0dbb86...</td>\n",
       "      <td>./sol/</td>\n",
       "    </tr>\n",
       "    <tr>\n",
       "      <th>4</th>\n",
       "      <td>ID_I7OOHH</td>\n",
       "      <td>/kaggle/input/zindidata/images/images/3d05e315...</td>\n",
       "      <td>./sol/</td>\n",
       "    </tr>\n",
       "  </tbody>\n",
       "</table>\n",
       "</div>"
      ],
      "text/plain": [
       "          ID                                           filename destination\n",
       "0  ID_QW9GQM  /kaggle/input/zindidata/images/images/03428805...      ./sol/\n",
       "1  ID_G9VPQ9  /kaggle/input/zindidata/images/images/5dcf4f5d...      ./sol/\n",
       "2  ID_QIMIEM  /kaggle/input/zindidata/images/images/4e835aa4...      ./sol/\n",
       "3  ID_TSINUQ  /kaggle/input/zindidata/images/images/1e0dbb86...      ./sol/\n",
       "4  ID_I7OOHH  /kaggle/input/zindidata/images/images/3d05e315...      ./sol/"
      ]
     },
     "execution_count": 17,
     "metadata": {},
     "output_type": "execute_result"
    }
   ],
   "source": [
    "sol['filename']='/kaggle/input/zindidata/images/images/'+sol['filename']\n",
    "sol['destination']='./sol/'\n",
    "sol.head()"
   ]
  },
  {
   "cell_type": "code",
   "execution_count": 18,
   "id": "abceac1f",
   "metadata": {
    "execution": {
     "iopub.execute_input": "2024-01-21T18:30:16.841096Z",
     "iopub.status.busy": "2024-01-21T18:30:16.840398Z",
     "iopub.status.idle": "2024-01-21T18:30:16.851643Z",
     "shell.execute_reply": "2024-01-21T18:30:16.849534Z"
    },
    "papermill": {
     "duration": 0.02312,
     "end_time": "2024-01-21T18:30:16.855051",
     "exception": false,
     "start_time": "2024-01-21T18:30:16.831931",
     "status": "completed"
    },
    "tags": []
   },
   "outputs": [],
   "source": [
    "import os\n",
    "import shutil\n",
    "import pandas as pd\n",
    "\n",
    "def copy_files(df, src_col_name, dest_col_name):\n",
    "    \"\"\"\n",
    "    copys files from the source folder specified in the src_col_name column\n",
    "    to the destination folder specified in the dest_col_name column of a pandas\n",
    "    DataFrame.\n",
    "\n",
    "    Args:\n",
    "        df (pandas.DataFrame): The input DataFrame containing file locations.\n",
    "        src_col_name (str): The name of the column containing the source file locations.\n",
    "        dest_col_name (str): The name of the column containing the destination file locations.\n",
    "    \"\"\"\n",
    "    for index, row in df.iterrows():\n",
    "        src_path = row[src_col_name]\n",
    "        dest_path = row[dest_col_name]\n",
    "        if os.path.exists(src_path):\n",
    "            if os.path.isfile(src_path):  # check if src_path is a file\n",
    "                shutil.copy(src_path, dest_path)\n",
    "            else:\n",
    "                print(f\"Cannot copy '{src_path}'. It is a directory.\")\n",
    "        else:\n",
    "            print(f\"Source path '{src_path}' does not exist.\")"
   ]
  },
  {
   "cell_type": "code",
   "execution_count": 19,
   "id": "fcc358a8",
   "metadata": {
    "execution": {
     "iopub.execute_input": "2024-01-21T18:30:16.871264Z",
     "iopub.status.busy": "2024-01-21T18:30:16.870807Z",
     "iopub.status.idle": "2024-01-21T18:31:44.219873Z",
     "shell.execute_reply": "2024-01-21T18:31:44.217310Z"
    },
    "papermill": {
     "duration": 87.361315,
     "end_time": "2024-01-21T18:31:44.223681",
     "exception": false,
     "start_time": "2024-01-21T18:30:16.862366",
     "status": "completed"
    },
    "tags": []
   },
   "outputs": [],
   "source": [
    "copy_files(sol, 'filename', 'destination')"
   ]
  },
  {
   "cell_type": "code",
   "execution_count": 20,
   "id": "bf7d7230",
   "metadata": {
    "execution": {
     "iopub.execute_input": "2024-01-21T18:31:44.240661Z",
     "iopub.status.busy": "2024-01-21T18:31:44.240128Z",
     "iopub.status.idle": "2024-01-21T18:31:44.263383Z",
     "shell.execute_reply": "2024-01-21T18:31:44.261549Z"
    },
    "papermill": {
     "duration": 0.034855,
     "end_time": "2024-01-21T18:31:44.265954",
     "exception": false,
     "start_time": "2024-01-21T18:31:44.231099",
     "status": "completed"
    },
    "tags": []
   },
   "outputs": [
    {
     "data": {
      "text/html": [
       "<div>\n",
       "<style scoped>\n",
       "    .dataframe tbody tr th:only-of-type {\n",
       "        vertical-align: middle;\n",
       "    }\n",
       "\n",
       "    .dataframe tbody tr th {\n",
       "        vertical-align: top;\n",
       "    }\n",
       "\n",
       "    .dataframe thead th {\n",
       "        text-align: right;\n",
       "    }\n",
       "</style>\n",
       "<table border=\"1\" class=\"dataframe\">\n",
       "  <thead>\n",
       "    <tr style=\"text-align: right;\">\n",
       "      <th></th>\n",
       "      <th>ID</th>\n",
       "      <th>filename</th>\n",
       "    </tr>\n",
       "  </thead>\n",
       "  <tbody>\n",
       "    <tr>\n",
       "      <th>0</th>\n",
       "      <td>ID_QW9GQM</td>\n",
       "      <td>03428805a0d7d269b422dbfafb3f86cb394a0491.jpg</td>\n",
       "    </tr>\n",
       "    <tr>\n",
       "      <th>1</th>\n",
       "      <td>ID_G9VPQ9</td>\n",
       "      <td>5dcf4f5d82708496ad7c3227ccbc8af5058aa227.jpg</td>\n",
       "    </tr>\n",
       "    <tr>\n",
       "      <th>2</th>\n",
       "      <td>ID_QIMIEM</td>\n",
       "      <td>4e835aa40e4aafa24db13cba4182094eb9e5eb79.jpg</td>\n",
       "    </tr>\n",
       "    <tr>\n",
       "      <th>3</th>\n",
       "      <td>ID_TSINUQ</td>\n",
       "      <td>1e0dbb8669385be73a480ce108d12bdc4354f120.jpg</td>\n",
       "    </tr>\n",
       "    <tr>\n",
       "      <th>4</th>\n",
       "      <td>ID_I7OOHH</td>\n",
       "      <td>3d05e31502f9f00ce25770666c73af5f323a8b3a.jpg</td>\n",
       "    </tr>\n",
       "  </tbody>\n",
       "</table>\n",
       "</div>"
      ],
      "text/plain": [
       "          ID                                      filename\n",
       "0  ID_QW9GQM  03428805a0d7d269b422dbfafb3f86cb394a0491.jpg\n",
       "1  ID_G9VPQ9  5dcf4f5d82708496ad7c3227ccbc8af5058aa227.jpg\n",
       "2  ID_QIMIEM  4e835aa40e4aafa24db13cba4182094eb9e5eb79.jpg\n",
       "3  ID_TSINUQ  1e0dbb8669385be73a480ce108d12bdc4354f120.jpg\n",
       "4  ID_I7OOHH  3d05e31502f9f00ce25770666c73af5f323a8b3a.jpg"
      ]
     },
     "execution_count": 20,
     "metadata": {},
     "output_type": "execute_result"
    }
   ],
   "source": [
    "sol=sol.drop(['destination'],axis=1)\n",
    "sol['filename']=sol['filename'].str.replace('/kaggle/input/zindidata/images/images/','')\n",
    "sol.head()"
   ]
  },
  {
   "cell_type": "code",
   "execution_count": 21,
   "id": "f35760b4",
   "metadata": {
    "execution": {
     "iopub.execute_input": "2024-01-21T18:31:44.282297Z",
     "iopub.status.busy": "2024-01-21T18:31:44.281824Z",
     "iopub.status.idle": "2024-01-21T18:31:44.312755Z",
     "shell.execute_reply": "2024-01-21T18:31:44.311324Z"
    },
    "papermill": {
     "duration": 0.042627,
     "end_time": "2024-01-21T18:31:44.315566",
     "exception": false,
     "start_time": "2024-01-21T18:31:44.272939",
     "status": "completed"
    },
    "tags": []
   },
   "outputs": [],
   "source": [
    "sol.to_csv('./test.csv',index=False)"
   ]
  }
 ],
 "metadata": {
  "kaggle": {
   "accelerator": "none",
   "dataSources": [
    {
     "datasetId": 3963802,
     "sourceId": 7027067,
     "sourceType": "datasetVersion"
    }
   ],
   "dockerImageVersionId": 30635,
   "isGpuEnabled": false,
   "isInternetEnabled": true,
   "language": "python",
   "sourceType": "notebook"
  },
  "kernelspec": {
   "display_name": "Python 3 (ipykernel)",
   "language": "python",
   "name": "python3"
  },
  "language_info": {
   "codemirror_mode": {
    "name": "ipython",
    "version": 3
   },
   "file_extension": ".py",
   "mimetype": "text/x-python",
   "name": "python",
   "nbconvert_exporter": "python",
   "pygments_lexer": "ipython3",
   "version": "3.8.10"
  },
  "papermill": {
   "default_parameters": {},
   "duration": 388.093258,
   "end_time": "2024-01-21T18:31:45.354233",
   "environment_variables": {},
   "exception": null,
   "input_path": "__notebook__.ipynb",
   "output_path": "__notebook__.ipynb",
   "parameters": {},
   "start_time": "2024-01-21T18:25:17.260975",
   "version": "2.4.0"
  }
 },
 "nbformat": 4,
 "nbformat_minor": 5
}
